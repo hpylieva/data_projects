{
 "cells": [
  {
   "cell_type": "code",
   "execution_count": null,
   "id": "1d27b147-bc82-418f-8d96-bf36d9474497",
   "metadata": {},
   "outputs": [],
   "source": [
    "!pip install pytesseract"
   ]
  },
  {
   "cell_type": "code",
   "execution_count": 33,
   "id": "edcc4c58-a71a-46a2-b221-78ca4d8dfe33",
   "metadata": {},
   "outputs": [],
   "source": [
    "from PIL import Image\n",
    "import pytesseract\n",
    "import openai\n",
    "import json\n",
    "import os\n",
    "import base64\n",
    "import requests"
   ]
  },
  {
   "cell_type": "code",
   "execution_count": 35,
   "id": "d36b80f8-f2d7-4014-9dd8-9344c07e13c8",
   "metadata": {},
   "outputs": [],
   "source": [
    "creds = json.load(open('../work/llm-discovery/chatgpt_creds.json'))\n",
    "openai.api_key = creds['OPENAI_API_KEY']\n",
    "\n",
    "# Function to extract text from an image using Tesseract OCR\n",
    "def extract_text_from_image(image_path):\n",
    "    img = Image.open(image_path)\n",
    "    text = pytesseract.image_to_string(img, lang = 'ukr')\n",
    "    return text\n",
    "\n",
    "# Function to encode the image\n",
    "def encode_image(image_path):\n",
    "  with open(image_path, \"rb\") as image_file:\n",
    "    return base64.b64encode(image_file.read()).decode('utf-8')\n",
    "\n",
    "\n",
    "def process_image_with_gpt(image_path):    \n",
    "    # Getting the base64 string\n",
    "    base64_image = encode_image(image_path)\n",
    "    \n",
    "    headers = {\n",
    "      \"Content-Type\": \"application/json\",\n",
    "      \"Authorization\": f\"Bearer {openai.api_key}\"\n",
    "    }\n",
    "    \n",
    "    payload = {\n",
    "      \"model\": \"gpt-4o\",\n",
    "      \"messages\": [\n",
    "        {\n",
    "          \"role\": \"user\",\n",
    "          \"content\": [\n",
    "            {\n",
    "              \"type\": \"text\",\n",
    "              \"text\": \"Extract all the phrases from this image as a valid Python list\"\n",
    "            },\n",
    "            {\n",
    "              \"type\": \"image_url\",\n",
    "              \"image_url\": {\n",
    "                \"url\": f\"data:image/jpeg;base64,{base64_image}\"\n",
    "              }\n",
    "            }\n",
    "          ]\n",
    "        }\n",
    "      ],\n",
    "      \"max_tokens\": 300\n",
    "    }\n",
    "    \n",
    "    response = requests.post(\"https://api.openai.com/v1/chat/completions\", headers=headers, json=payload)\n",
    "\n",
    "    return response"
   ]
  },
  {
   "cell_type": "code",
   "execution_count": 29,
   "id": "458298d5-50e9-456d-b0c3-2337cabce37f",
   "metadata": {},
   "outputs": [],
   "source": [
    "image_paths = os.listdir('images')"
   ]
  },
  {
   "cell_type": "code",
   "execution_count": 36,
   "id": "cb79c723-aa5a-4c4b-9380-1f279f7f999f",
   "metadata": {},
   "outputs": [],
   "source": [
    "extracted = []\n",
    "for image_path in image_paths:\n",
    "    extracted.append(process_image_with_gpt('images/'+image_path))\n",
    "\n",
    "    \n",
    "    # # Optionally process the text with GPT\n",
    "    # response_text = process_text_with_gpt(extracted_text)\n",
    "    # print(f\"GPT-Processed Text:\\n{response_text}\\n\")"
   ]
  },
  {
   "cell_type": "code",
   "execution_count": 69,
   "id": "f90f7a50-a241-422e-84dc-fa33865405b0",
   "metadata": {},
   "outputs": [],
   "source": [
    "test = extracted[0].json()['choices'][0]['message']['content']"
   ]
  },
  {
   "cell_type": "code",
   "execution_count": 67,
   "id": "f40f8fa0-fcd9-4ade-a965-feca2bd39c3e",
   "metadata": {},
   "outputs": [
    {
     "data": {
      "text/plain": [
       "'phrases = [\\n    \"Красива\",\\n    \"Цілеспрямованість, наполегливість, розвиток, внутрішня сила та краса\",\\n    \"Цікава дівчина\",\\n    \"PhD😯\",\\n    \"Енергія, професійність відкритість, доброзичливість, проф.ріст, допомога\",\\n    \"Трудоголік\",\\n    \"Професіоналізм, цілеспрямованість, драйв\"\\n]'"
      ]
     },
     "execution_count": 67,
     "metadata": {},
     "output_type": "execute_result"
    }
   ],
   "source": []
  },
  {
   "cell_type": "code",
   "execution_count": 77,
   "id": "dc0d2d54-58d8-4305-8dde-d360b0f0f89f",
   "metadata": {},
   "outputs": [],
   "source": [
    "import ast\n",
    "\n",
    "def extract_phrases(text):\n",
    "    print(text)\n",
    "    text = text.strip('```').strip('python').strip()\n",
    "    text = text.split('=', 1)[1].strip()\n",
    "    return ast.literal_eval(text)\n",
    "    "
   ]
  },
  {
   "cell_type": "code",
   "execution_count": 78,
   "id": "6479e490-1717-4947-9781-f00665d02c34",
   "metadata": {},
   "outputs": [
    {
     "name": "stdout",
     "output_type": "stream",
     "text": [
      "```python\n",
      "phrases = [\n",
      "    \"Красива\",\n",
      "    \"Цілеспрямованість, наполегливість, розвиток, внутрішня сила та краса\",\n",
      "    \"Цікава дівчина\",\n",
      "    \"PhD😯\",\n",
      "    \"Енергія, професійність відкритість, доброзичливість, проф.ріст, допомога\",\n",
      "    \"Трудоголік\",\n",
      "    \"Професіоналізм, цілеспрямованість, драйв\"\n",
      "]\n",
      "```\n",
      "```python\n",
      "[\n",
      "    \"Аналіз\",\n",
      "    \"успіх!!\",\n",
      "    \"Сучасна, програмування, передбачення, драйв, Poland, працьовитість\",\n",
      "    \"Захопленість\",\n",
      "    \"Сміливість і успіх\",\n",
      "    \"Смак до життя\",\n",
      "    \"Красива\",\n",
      "    \"Цілеспрямованість, наполегливість, розвиток, внутрішня сила та краса\"\n",
      "]\n",
      "```\n"
     ]
    },
    {
     "ename": "IndexError",
     "evalue": "list index out of range",
     "output_type": "error",
     "traceback": [
      "\u001b[0;31m---------------------------------------------------------------------------\u001b[0m",
      "\u001b[0;31mIndexError\u001b[0m                                Traceback (most recent call last)",
      "Cell \u001b[0;32mIn[78], line 1\u001b[0m\n\u001b[0;32m----> 1\u001b[0m phrases \u001b[38;5;241m=\u001b[39m [\u001b[43mextract_phrases\u001b[49m\u001b[43m(\u001b[49m\u001b[43mres\u001b[49m\u001b[38;5;241;43m.\u001b[39;49m\u001b[43mjson\u001b[49m\u001b[43m(\u001b[49m\u001b[43m)\u001b[49m\u001b[43m[\u001b[49m\u001b[38;5;124;43m'\u001b[39;49m\u001b[38;5;124;43mchoices\u001b[39;49m\u001b[38;5;124;43m'\u001b[39;49m\u001b[43m]\u001b[49m\u001b[43m[\u001b[49m\u001b[38;5;241;43m0\u001b[39;49m\u001b[43m]\u001b[49m\u001b[43m[\u001b[49m\u001b[38;5;124;43m'\u001b[39;49m\u001b[38;5;124;43mmessage\u001b[39;49m\u001b[38;5;124;43m'\u001b[39;49m\u001b[43m]\u001b[49m\u001b[43m[\u001b[49m\u001b[38;5;124;43m'\u001b[39;49m\u001b[38;5;124;43mcontent\u001b[39;49m\u001b[38;5;124;43m'\u001b[39;49m\u001b[43m]\u001b[49m\u001b[43m)\u001b[49m \u001b[38;5;28;01mfor\u001b[39;00m res \u001b[38;5;129;01min\u001b[39;00m extracted]\n",
      "Cell \u001b[0;32mIn[77], line 6\u001b[0m, in \u001b[0;36mextract_phrases\u001b[0;34m(text)\u001b[0m\n\u001b[1;32m      4\u001b[0m \u001b[38;5;28mprint\u001b[39m(text)\n\u001b[1;32m      5\u001b[0m text \u001b[38;5;241m=\u001b[39m text\u001b[38;5;241m.\u001b[39mstrip(\u001b[38;5;124m'\u001b[39m\u001b[38;5;124m```\u001b[39m\u001b[38;5;124m'\u001b[39m)\u001b[38;5;241m.\u001b[39mstrip(\u001b[38;5;124m'\u001b[39m\u001b[38;5;124mpython\u001b[39m\u001b[38;5;124m'\u001b[39m)\u001b[38;5;241m.\u001b[39mstrip()\n\u001b[0;32m----> 6\u001b[0m text \u001b[38;5;241m=\u001b[39m \u001b[43mtext\u001b[49m\u001b[38;5;241;43m.\u001b[39;49m\u001b[43msplit\u001b[49m\u001b[43m(\u001b[49m\u001b[38;5;124;43m'\u001b[39;49m\u001b[38;5;124;43m=\u001b[39;49m\u001b[38;5;124;43m'\u001b[39;49m\u001b[43m,\u001b[49m\u001b[43m \u001b[49m\u001b[38;5;241;43m1\u001b[39;49m\u001b[43m)\u001b[49m\u001b[43m[\u001b[49m\u001b[38;5;241;43m1\u001b[39;49m\u001b[43m]\u001b[49m\u001b[38;5;241m.\u001b[39mstrip()\n\u001b[1;32m      7\u001b[0m phrases \u001b[38;5;241m=\u001b[39m ast\u001b[38;5;241m.\u001b[39mliteral_eval(text)\n\u001b[1;32m      8\u001b[0m \u001b[38;5;28;01mreturn\u001b[39;00m phrases\n",
      "\u001b[0;31mIndexError\u001b[0m: list index out of range"
     ]
    }
   ],
   "source": [
    "phrases = [extract_phrases(res.json()['choices'][0]['message']['content']) for res in extracted]"
   ]
  },
  {
   "cell_type": "code",
   "execution_count": null,
   "id": "f9a0d6d2-108d-4178-8982-a1f636b9baea",
   "metadata": {},
   "outputs": [],
   "source": []
  },
  {
   "cell_type": "code",
   "execution_count": null,
   "id": "b8bc5e50-3e46-4f2f-95ea-5381afee05d5",
   "metadata": {},
   "outputs": [],
   "source": []
  }
 ],
 "metadata": {
  "kernelspec": {
   "display_name": "Python 3 (ipykernel)",
   "language": "python",
   "name": "python3"
  },
  "language_info": {
   "codemirror_mode": {
    "name": "ipython",
    "version": 3
   },
   "file_extension": ".py",
   "mimetype": "text/x-python",
   "name": "python",
   "nbconvert_exporter": "python",
   "pygments_lexer": "ipython3",
   "version": "3.12.0"
  }
 },
 "nbformat": 4,
 "nbformat_minor": 5
}
